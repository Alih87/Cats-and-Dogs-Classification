{
  "nbformat": 4,
  "nbformat_minor": 0,
  "metadata": {
    "colab": {
      "name": "YOLO_Detection.ipynb",
      "provenance": [],
      "collapsed_sections": [],
      "authorship_tag": "ABX9TyP8zknKo4FG2MrjMoSg64Fv",
      "include_colab_link": true
    },
    "kernelspec": {
      "display_name": "Python 3",
      "name": "python3"
    },
    "language_info": {
      "name": "python"
    }
  },
  "cells": [
    {
      "cell_type": "markdown",
      "metadata": {
        "id": "view-in-github",
        "colab_type": "text"
      },
      "source": [
        "<a href=\"https://colab.research.google.com/github/Alih87/Cats-and-Dogs-Classification/blob/main/YOLO_Detection.ipynb\" target=\"_parent\"><img src=\"https://colab.research.google.com/assets/colab-badge.svg\" alt=\"Open In Colab\"/></a>"
      ]
    },
    {
      "cell_type": "code",
      "metadata": {
        "id": "HHTPSmkYQXYR"
      },
      "source": [
        " import tensorflow as tf\n",
        " from keras import backend as K\n",
        " import numpy as np\n",
        " import pandas as pd\n",
        " import PIL\n",
        " from keras.layers import Input, Lambda, Conv2D\n",
        " from keras.models import load_model, Model\n",
        " import matplotlib.pyplot as plt\n",
        " import os\n",
        " from scipy import io\n",
        " from scipy import misc\n",
        " import argparse"
      ],
      "execution_count": 2,
      "outputs": []
    },
    {
      "cell_type": "code",
      "metadata": {
        "id": "cIZiL-a0dVgz"
      },
      "source": [
        "def yolo_filter_boxes(box_confidence, boxes, box_class_probs, threshold = 0.6):\n",
        "  box_scores = box_confidence*box_class_probs\n",
        "  box_classes = K.argmax(box_scores, axis = -1)\n",
        "  box_class_scores = K.max(box_scores, axis = -1)\n",
        "  filtering_mask = box_class_scores >= threshold\n",
        "  scores = tf.boolean_mask(box_class_scores, filtering_mask)\n",
        "  boxes = tf.boolean_mask(boxes, fitering_mask)\n",
        "  classes= tf.boolean_mask(box_classes, filtering_mask)\n",
        "\n",
        "  return scores, boxes, classes"
      ],
      "execution_count": 5,
      "outputs": []
    },
    {
      "cell_type": "code",
      "metadata": {
        "id": "BvQm0ODXFuXN"
      },
      "source": [
        "def iou(box1, box2):\n",
        "  xi1 = np.max(box1[0], box2[0])\n",
        "  xi2 = np.max(box1[2], box2[2])\n",
        "  yi1 = np.max(box1[1], box2[1])\n",
        "  yi2 = np.max(box1[3], box2[3])\n",
        "  inter_area = max((yi2-yi1), 0)*max((xi2-xi1), 0)\n",
        "\n",
        "  box1_area = (box1[3] - box1[0]) * (box1[2] - box1[0])\n",
        "  box2_area = (box2[3] - box2[1]) * (box2[2] - box2[0])\n",
        "  union_area = box1_area + box2_area - inter_area\n",
        "  iou = inter_area/union_area\n",
        "\n",
        "  return iou"
      ],
      "execution_count": 7,
      "outputs": []
    },
    {
      "cell_type": "code",
      "metadata": {
        "id": "ZkkgjtjuTg4N"
      },
      "source": [
        "def yolo_non_max_suppression(scores, boxes, classes, max_boxes = 10, iou_threshold = 0.5):\n",
        "  max_boxes_tensor = K.variable(max_boxes, dtype='int32')\n",
        "  K.get_session().run(tf.variables_initializeer([max_boxes_tensor]))\n",
        "  "
      ],
      "execution_count": null,
      "outputs": []
    }
  ]
}